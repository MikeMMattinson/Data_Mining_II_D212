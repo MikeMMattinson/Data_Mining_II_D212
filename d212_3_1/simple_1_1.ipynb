{
 "cells": [
  {
   "cell_type": "markdown",
   "id": "b48d908f",
   "metadata": {},
   "source": [
    "<h1>SIMPLE MARKET BASKET TASK 1 REV 1 - MATTINSON</h1>"
   ]
  },
  {
   "cell_type": "markdown",
   "id": "a4735ce8",
   "metadata": {},
   "source": [
    "## update/install required packages"
   ]
  },
  {
   "cell_type": "code",
   "execution_count": null,
   "id": "4849b5d2",
   "metadata": {},
   "outputs": [],
   "source": [
    "# upgrade pip\n",
    "!python -m pip install --upgrade pip"
   ]
  },
  {
   "cell_type": "code",
   "execution_count": null,
   "id": "fd456fe6",
   "metadata": {},
   "outputs": [],
   "source": [
    "# upgrade/install mlxtend\n",
    "!python -m pip install --upgrade mlxtend"
   ]
  },
  {
   "cell_type": "code",
   "execution_count": null,
   "id": "96bff7b2",
   "metadata": {},
   "outputs": [],
   "source": [
    "#External package need to install\n",
    "!pip install apyori"
   ]
  },
  {
   "cell_type": "markdown",
   "id": "1bfcb22c",
   "metadata": {},
   "source": [
    "## import packages"
   ]
  },
  {
   "cell_type": "code",
   "execution_count": 1,
   "id": "d0c41804",
   "metadata": {},
   "outputs": [],
   "source": [
    "import pandas as pd\n",
    "import numpy as np\n",
    "import matplotlib.pyplot as plt\n",
    "from mlxtend.preprocessing import TransactionEncoder\n",
    "from mlxtend.frequent_patterns import apriori\n",
    "from mlxtend.frequent_patterns import association_rules"
   ]
  },
  {
   "cell_type": "markdown",
   "id": "6d1c7937",
   "metadata": {},
   "source": [
    "## raw data"
   ]
  },
  {
   "cell_type": "code",
   "execution_count": 2,
   "id": "05d348df",
   "metadata": {
    "scrolled": false
   },
   "outputs": [],
   "source": [
    "# load data from .csv & show first few records\n",
    "raw = pd.read_csv('data/simple.csv')"
   ]
  },
  {
   "cell_type": "markdown",
   "id": "27fa16c9",
   "metadata": {},
   "source": [
    "## clean data"
   ]
  },
  {
   "cell_type": "code",
   "execution_count": 7,
   "id": "8f2b141c",
   "metadata": {},
   "outputs": [],
   "source": [
    "# dataframe structure\n",
    "df = raw.copy()"
   ]
  },
  {
   "cell_type": "markdown",
   "id": "66d02951",
   "metadata": {},
   "source": [
    "## export data"
   ]
  },
  {
   "cell_type": "code",
   "execution_count": 8,
   "id": "e3ce99de",
   "metadata": {},
   "outputs": [
    {
     "name": "stdout",
     "output_type": "stream",
     "text": [
      "<class 'pandas.core.frame.DataFrame'>\n",
      "RangeIndex: 5 entries, 0 to 4\n",
      "Data columns (total 5 columns):\n",
      " #   Column  Non-Null Count  Dtype\n",
      "---  ------  --------------  -----\n",
      " 0   A       5 non-null      bool \n",
      " 1   B       5 non-null      bool \n",
      " 2   C       5 non-null      bool \n",
      " 3   D       5 non-null      bool \n",
      " 4   E       5 non-null      bool \n",
      "dtypes: bool(5)\n",
      "memory usage: 153.0 bytes\n",
      "None\n",
      "(5, 5)\n"
     ]
    },
    {
     "data": {
      "text/html": [
       "<div>\n",
       "<style scoped>\n",
       "    .dataframe tbody tr th:only-of-type {\n",
       "        vertical-align: middle;\n",
       "    }\n",
       "\n",
       "    .dataframe tbody tr th {\n",
       "        vertical-align: top;\n",
       "    }\n",
       "\n",
       "    .dataframe thead th {\n",
       "        text-align: right;\n",
       "    }\n",
       "</style>\n",
       "<table border=\"1\" class=\"dataframe\">\n",
       "  <thead>\n",
       "    <tr style=\"text-align: right;\">\n",
       "      <th></th>\n",
       "      <th>0</th>\n",
       "      <th>1</th>\n",
       "      <th>2</th>\n",
       "      <th>3</th>\n",
       "      <th>4</th>\n",
       "    </tr>\n",
       "  </thead>\n",
       "  <tbody>\n",
       "    <tr>\n",
       "      <th>A</th>\n",
       "      <td>True</td>\n",
       "      <td>True</td>\n",
       "      <td>False</td>\n",
       "      <td>True</td>\n",
       "      <td>False</td>\n",
       "    </tr>\n",
       "    <tr>\n",
       "      <th>B</th>\n",
       "      <td>True</td>\n",
       "      <td>False</td>\n",
       "      <td>True</td>\n",
       "      <td>False</td>\n",
       "      <td>True</td>\n",
       "    </tr>\n",
       "    <tr>\n",
       "      <th>C</th>\n",
       "      <td>True</td>\n",
       "      <td>True</td>\n",
       "      <td>True</td>\n",
       "      <td>False</td>\n",
       "      <td>True</td>\n",
       "    </tr>\n",
       "    <tr>\n",
       "      <th>D</th>\n",
       "      <td>False</td>\n",
       "      <td>True</td>\n",
       "      <td>True</td>\n",
       "      <td>True</td>\n",
       "      <td>False</td>\n",
       "    </tr>\n",
       "    <tr>\n",
       "      <th>E</th>\n",
       "      <td>False</td>\n",
       "      <td>False</td>\n",
       "      <td>False</td>\n",
       "      <td>True</td>\n",
       "      <td>True</td>\n",
       "    </tr>\n",
       "  </tbody>\n",
       "</table>\n",
       "</div>"
      ],
      "text/plain": [
       "       0      1      2      3      4\n",
       "A   True   True  False   True  False\n",
       "B   True  False   True  False   True\n",
       "C   True   True   True  False   True\n",
       "D  False   True   True   True  False\n",
       "E  False  False  False   True   True"
      ]
     },
     "execution_count": 8,
     "metadata": {},
     "output_type": "execute_result"
    }
   ],
   "source": [
    "# export clean data ready for market basket analysis\n",
    "df.to_csv('tables\\simple_cleaned.csv', index=False, header=True)\n",
    "print(df.info())\n",
    "print(df.shape)\n",
    "df.head(5).T"
   ]
  },
  {
   "cell_type": "markdown",
   "id": "35f8df0e",
   "metadata": {},
   "source": [
    "## create association rules"
   ]
  },
  {
   "cell_type": "code",
   "execution_count": 10,
   "id": "0eb11919",
   "metadata": {},
   "outputs": [],
   "source": [
    "# define which columns to include in printouts\n",
    "output_cols = ['antecedents','consequents','support','confidence','lift']"
   ]
  },
  {
   "cell_type": "code",
   "execution_count": 11,
   "id": "cd79d20b",
   "metadata": {},
   "outputs": [
    {
     "data": {
      "text/html": [
       "<div>\n",
       "<style scoped>\n",
       "    .dataframe tbody tr th:only-of-type {\n",
       "        vertical-align: middle;\n",
       "    }\n",
       "\n",
       "    .dataframe tbody tr th {\n",
       "        vertical-align: top;\n",
       "    }\n",
       "\n",
       "    .dataframe thead th {\n",
       "        text-align: right;\n",
       "    }\n",
       "</style>\n",
       "<table border=\"1\" class=\"dataframe\">\n",
       "  <thead>\n",
       "    <tr style=\"text-align: right;\">\n",
       "      <th></th>\n",
       "      <th>antecedents</th>\n",
       "      <th>consequents</th>\n",
       "      <th>support</th>\n",
       "      <th>confidence</th>\n",
       "      <th>lift</th>\n",
       "    </tr>\n",
       "  </thead>\n",
       "  <tbody>\n",
       "    <tr>\n",
       "      <th>9</th>\n",
       "      <td>(D)</td>\n",
       "      <td>(A, E)</td>\n",
       "      <td>0.2</td>\n",
       "      <td>0.333</td>\n",
       "      <td>1.667</td>\n",
       "    </tr>\n",
       "    <tr>\n",
       "      <th>10</th>\n",
       "      <td>(A)</td>\n",
       "      <td>(D, E)</td>\n",
       "      <td>0.2</td>\n",
       "      <td>0.333</td>\n",
       "      <td>1.667</td>\n",
       "    </tr>\n",
       "    <tr>\n",
       "      <th>16</th>\n",
       "      <td>(B)</td>\n",
       "      <td>(C, E)</td>\n",
       "      <td>0.2</td>\n",
       "      <td>0.333</td>\n",
       "      <td>1.667</td>\n",
       "    </tr>\n",
       "    <tr>\n",
       "      <th>15</th>\n",
       "      <td>(C, E)</td>\n",
       "      <td>(B)</td>\n",
       "      <td>0.2</td>\n",
       "      <td>1.000</td>\n",
       "      <td>1.667</td>\n",
       "    </tr>\n",
       "    <tr>\n",
       "      <th>7</th>\n",
       "      <td>(D, E)</td>\n",
       "      <td>(A)</td>\n",
       "      <td>0.2</td>\n",
       "      <td>1.000</td>\n",
       "      <td>1.667</td>\n",
       "    </tr>\n",
       "    <tr>\n",
       "      <th>8</th>\n",
       "      <td>(A, E)</td>\n",
       "      <td>(D)</td>\n",
       "      <td>0.2</td>\n",
       "      <td>1.000</td>\n",
       "      <td>1.667</td>\n",
       "    </tr>\n",
       "    <tr>\n",
       "      <th>14</th>\n",
       "      <td>(B, E)</td>\n",
       "      <td>(C)</td>\n",
       "      <td>0.2</td>\n",
       "      <td>1.000</td>\n",
       "      <td>1.250</td>\n",
       "    </tr>\n",
       "    <tr>\n",
       "      <th>13</th>\n",
       "      <td>(C)</td>\n",
       "      <td>(B, D)</td>\n",
       "      <td>0.2</td>\n",
       "      <td>0.250</td>\n",
       "      <td>1.250</td>\n",
       "    </tr>\n",
       "    <tr>\n",
       "      <th>12</th>\n",
       "      <td>(B, D)</td>\n",
       "      <td>(C)</td>\n",
       "      <td>0.2</td>\n",
       "      <td>1.000</td>\n",
       "      <td>1.250</td>\n",
       "    </tr>\n",
       "    <tr>\n",
       "      <th>11</th>\n",
       "      <td>(E)</td>\n",
       "      <td>(A, D)</td>\n",
       "      <td>0.2</td>\n",
       "      <td>0.500</td>\n",
       "      <td>1.250</td>\n",
       "    </tr>\n",
       "    <tr>\n",
       "      <th>17</th>\n",
       "      <td>(C)</td>\n",
       "      <td>(B, E)</td>\n",
       "      <td>0.2</td>\n",
       "      <td>0.250</td>\n",
       "      <td>1.250</td>\n",
       "    </tr>\n",
       "    <tr>\n",
       "      <th>6</th>\n",
       "      <td>(A, D)</td>\n",
       "      <td>(E)</td>\n",
       "      <td>0.2</td>\n",
       "      <td>0.500</td>\n",
       "      <td>1.250</td>\n",
       "    </tr>\n",
       "    <tr>\n",
       "      <th>5</th>\n",
       "      <td>(C)</td>\n",
       "      <td>(B, A)</td>\n",
       "      <td>0.2</td>\n",
       "      <td>0.250</td>\n",
       "      <td>1.250</td>\n",
       "    </tr>\n",
       "    <tr>\n",
       "      <th>4</th>\n",
       "      <td>(B, A)</td>\n",
       "      <td>(C)</td>\n",
       "      <td>0.2</td>\n",
       "      <td>1.000</td>\n",
       "      <td>1.250</td>\n",
       "    </tr>\n",
       "    <tr>\n",
       "      <th>2</th>\n",
       "      <td>(B)</td>\n",
       "      <td>(C)</td>\n",
       "      <td>0.6</td>\n",
       "      <td>1.000</td>\n",
       "      <td>1.250</td>\n",
       "    </tr>\n",
       "    <tr>\n",
       "      <th>3</th>\n",
       "      <td>(C)</td>\n",
       "      <td>(B)</td>\n",
       "      <td>0.6</td>\n",
       "      <td>0.750</td>\n",
       "      <td>1.250</td>\n",
       "    </tr>\n",
       "    <tr>\n",
       "      <th>1</th>\n",
       "      <td>(A)</td>\n",
       "      <td>(D)</td>\n",
       "      <td>0.4</td>\n",
       "      <td>0.667</td>\n",
       "      <td>1.111</td>\n",
       "    </tr>\n",
       "    <tr>\n",
       "      <th>0</th>\n",
       "      <td>(D)</td>\n",
       "      <td>(A)</td>\n",
       "      <td>0.4</td>\n",
       "      <td>0.667</td>\n",
       "      <td>1.111</td>\n",
       "    </tr>\n",
       "  </tbody>\n",
       "</table>\n",
       "</div>"
      ],
      "text/plain": [
       "   antecedents consequents  support  confidence   lift\n",
       "9          (D)      (A, E)      0.2       0.333  1.667\n",
       "10         (A)      (D, E)      0.2       0.333  1.667\n",
       "16         (B)      (C, E)      0.2       0.333  1.667\n",
       "15      (C, E)         (B)      0.2       1.000  1.667\n",
       "7       (D, E)         (A)      0.2       1.000  1.667\n",
       "8       (A, E)         (D)      0.2       1.000  1.667\n",
       "14      (B, E)         (C)      0.2       1.000  1.250\n",
       "13         (C)      (B, D)      0.2       0.250  1.250\n",
       "12      (B, D)         (C)      0.2       1.000  1.250\n",
       "11         (E)      (A, D)      0.2       0.500  1.250\n",
       "17         (C)      (B, E)      0.2       0.250  1.250\n",
       "6       (A, D)         (E)      0.2       0.500  1.250\n",
       "5          (C)      (B, A)      0.2       0.250  1.250\n",
       "4       (B, A)         (C)      0.2       1.000  1.250\n",
       "2          (B)         (C)      0.6       1.000  1.250\n",
       "3          (C)         (B)      0.6       0.750  1.250\n",
       "1          (A)         (D)      0.4       0.667  1.111\n",
       "0          (D)         (A)      0.4       0.667  1.111"
      ]
     },
     "execution_count": 11,
     "metadata": {},
     "output_type": "execute_result"
    }
   ],
   "source": [
    "# min_sup 4/100 - min_lift 1 (sorted by lift)\n",
    "itemsets = apriori(df, min_support=4/100, use_colnames=True)\n",
    "rules = association_rules(itemsets, metric='lift', min_threshold=1)\n",
    "rules[output_cols].sort_values(by=['lift'], ascending=False).round(3)"
   ]
  },
  {
   "cell_type": "code",
   "execution_count": 18,
   "id": "31ef1b8b",
   "metadata": {},
   "outputs": [
    {
     "name": "stdout",
     "output_type": "stream",
     "text": [
      "18\n"
     ]
    }
   ],
   "source": [
    "print(len(rules))"
   ]
  },
  {
   "cell_type": "code",
   "execution_count": 22,
   "id": "419ec9ca",
   "metadata": {},
   "outputs": [
    {
     "name": "stdout",
     "output_type": "stream",
     "text": [
      "<class 'pandas.core.frame.DataFrame'>\n",
      "RangeIndex: 18 entries, 0 to 17\n",
      "Data columns (total 9 columns):\n",
      " #   Column              Non-Null Count  Dtype  \n",
      "---  ------              --------------  -----  \n",
      " 0   antecedents         18 non-null     object \n",
      " 1   consequents         18 non-null     object \n",
      " 2   antecedent support  18 non-null     float64\n",
      " 3   consequent support  18 non-null     float64\n",
      " 4   support             18 non-null     float64\n",
      " 5   confidence          18 non-null     float64\n",
      " 6   lift                18 non-null     float64\n",
      " 7   leverage            18 non-null     float64\n",
      " 8   conviction          18 non-null     float64\n",
      "dtypes: float64(7), object(2)\n",
      "memory usage: 1.4+ KB\n"
     ]
    }
   ],
   "source": [
    "rules.info()"
   ]
  },
  {
   "cell_type": "code",
   "execution_count": null,
   "id": "fe757e5c",
   "metadata": {},
   "outputs": [],
   "source": []
  }
 ],
 "metadata": {
  "kernelspec": {
   "display_name": "py39_venv",
   "language": "python",
   "name": "py39_venv"
  },
  "language_info": {
   "codemirror_mode": {
    "name": "ipython",
    "version": 3
   },
   "file_extension": ".py",
   "mimetype": "text/x-python",
   "name": "python",
   "nbconvert_exporter": "python",
   "pygments_lexer": "ipython3",
   "version": "3.9.7"
  },
  "toc": {
   "base_numbering": 1,
   "nav_menu": {},
   "number_sections": false,
   "sideBar": true,
   "skip_h1_title": true,
   "title_cell": "Table of Contents",
   "title_sidebar": "Contents",
   "toc_cell": false,
   "toc_position": {
    "height": "calc(100% - 180px)",
    "left": "10px",
    "top": "150px",
    "width": "211.974px"
   },
   "toc_section_display": true,
   "toc_window_display": false
  }
 },
 "nbformat": 4,
 "nbformat_minor": 5
}
