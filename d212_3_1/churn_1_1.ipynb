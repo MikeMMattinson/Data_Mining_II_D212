{
 "cells": [
  {
   "cell_type": "markdown",
   "id": "b48d908f",
   "metadata": {},
   "source": [
    "<h1>CHURNED MBA TASK 1 REV 1 - MATTINSON</h1>"
   ]
  },
  {
   "cell_type": "code",
   "execution_count": 1,
   "id": "d0c41804",
   "metadata": {},
   "outputs": [],
   "source": [
    "import pandas as pd\n",
    "import numpy as np\n",
    "import matplotlib.pyplot as plt\n",
    "from mlxtend.preprocessing import TransactionEncoder\n",
    "from mlxtend.frequent_patterns import apriori\n",
    "from mlxtend.frequent_patterns import association_rules"
   ]
  },
  {
   "cell_type": "code",
   "execution_count": 2,
   "id": "05d348df",
   "metadata": {},
   "outputs": [
    {
     "name": "stdout",
     "output_type": "stream",
     "text": [
      "['CaseOrder', 'Customer_id', 'Interaction', 'UID', 'City', 'State', 'County', 'Zip', 'Lat', 'Lng', 'Population', 'Area', 'TimeZone', 'Job', 'Children', 'Age', 'Income', 'Marital', 'Gender', 'Churn', 'Outage_sec_perweek', 'Email', 'Contacts', 'Yearly_equip_failure', 'Techie', 'Contract', 'Port_modem', 'Tablet', 'InternetService', 'Phone', 'Multiple', 'OnlineSecurity', 'OnlineBackup', 'DeviceProtection', 'TechSupport', 'StreamingTV', 'StreamingMovies', 'PaperlessBilling', 'PaymentMethod', 'Tenure', 'MonthlyCharge', 'Bandwidth_GB_Year', 'Item1', 'Item2', 'Item3', 'Item4', 'Item5', 'Item6', 'Item7', 'Item8']\n",
      "(10000, 50)\n"
     ]
    }
   ],
   "source": [
    "# load data from .csv\n",
    "churn = pd.read_csv('data/churn_clean.csv')\n",
    "print(list(churn.columns))\n",
    "print(churn.shape)"
   ]
  },
  {
   "cell_type": "markdown",
   "id": "37fab8e8",
   "metadata": {},
   "source": [
    "## clean data"
   ]
  },
  {
   "cell_type": "code",
   "execution_count": 8,
   "id": "69885f13",
   "metadata": {},
   "outputs": [],
   "source": [
    "# just categorical data\n",
    "#converted to dummy\n",
    "features = list(churn.select_dtypes(include=['object']).columns)\n",
    "features.remove('Customer_id')\n",
    "features.remove('Interaction')\n",
    "features.remove('UID')\n",
    "features.remove('City')\n",
    "features.remove('State')\n",
    "features.remove('County')\n",
    "features.remove('Area')\n",
    "features.remove('TimeZone')\n",
    "features.remove('Job')\n",
    "df = churn[features]\n",
    "df = pd.get_dummies(df, columns=features, drop_first=False)"
   ]
  },
  {
   "cell_type": "markdown",
   "id": "c14dc7a4",
   "metadata": {},
   "source": [
    "## export data"
   ]
  },
  {
   "cell_type": "code",
   "execution_count": 9,
   "id": "2bbf2cf4",
   "metadata": {},
   "outputs": [
    {
     "name": "stdout",
     "output_type": "stream",
     "text": [
      "(10000, 44)\n"
     ]
    }
   ],
   "source": [
    "df.to_csv('tables\\churn_cleaned.csv', index=False, header=True)\n",
    "print(df.shape)"
   ]
  },
  {
   "cell_type": "markdown",
   "id": "3b546404",
   "metadata": {},
   "source": [
    "## create association rules"
   ]
  },
  {
   "cell_type": "code",
   "execution_count": null,
   "id": "4a9ec547",
   "metadata": {},
   "outputs": [],
   "source": [
    "# minimum suppport rules\n",
    "support = apriori(df, min_support=0.10, use_colnames = True)\n",
    "print(len(support))"
   ]
  },
  {
   "cell_type": "code",
   "execution_count": null,
   "id": "e7049308",
   "metadata": {},
   "outputs": [],
   "source": [
    "# define main set of rules\n",
    "rules = association_rules(support, metric='lift',min_threshold=1)\n",
    "print(len(rules))"
   ]
  },
  {
   "cell_type": "code",
   "execution_count": null,
   "id": "5ba890f8",
   "metadata": {},
   "outputs": [],
   "source": [
    "# looking at top 20 survivor rules, sort by lift\n",
    "pd.set_option('display.max_colwidth', None)\n",
    "show_cols = ['antecedents','consequents','support','confidence','lift']\n",
    "churned_rules = rules[rules['consequents']=={'Churn_Yes'}]\n",
    "print(churned_rules[show_cols].sort_values('lift', ascending=False).head(10))"
   ]
  },
  {
   "cell_type": "code",
   "execution_count": null,
   "id": "fe757e5c",
   "metadata": {},
   "outputs": [],
   "source": []
  }
 ],
 "metadata": {
  "kernelspec": {
   "display_name": "py39_venv",
   "language": "python",
   "name": "py39_venv"
  },
  "language_info": {
   "codemirror_mode": {
    "name": "ipython",
    "version": 3
   },
   "file_extension": ".py",
   "mimetype": "text/x-python",
   "name": "python",
   "nbconvert_exporter": "python",
   "pygments_lexer": "ipython3",
   "version": "3.9.7"
  },
  "toc": {
   "base_numbering": 1,
   "nav_menu": {},
   "number_sections": false,
   "sideBar": true,
   "skip_h1_title": true,
   "title_cell": "Table of Contents",
   "title_sidebar": "Contents",
   "toc_cell": false,
   "toc_position": {
    "height": "calc(100% - 180px)",
    "left": "10px",
    "top": "150px",
    "width": "211.974px"
   },
   "toc_section_display": true,
   "toc_window_display": false
  }
 },
 "nbformat": 4,
 "nbformat_minor": 5
}
