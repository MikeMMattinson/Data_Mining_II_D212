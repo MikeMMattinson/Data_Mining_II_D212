{
 "cells": [
  {
   "cell_type": "markdown",
   "id": "b44044f1",
   "metadata": {},
   "source": [
    "<h1>WGU D212 TASK 2 REV 6 - MATTINSON</h1>\n",
    "PCA or General Factor Analysis"
   ]
  },
  {
   "cell_type": "markdown",
   "id": "dee63bde",
   "metadata": {},
   "source": [
    "## Setup data using continuous features"
   ]
  },
  {
   "cell_type": "markdown",
   "id": "d6b92e05",
   "metadata": {},
   "source": [
    "Import required libraries to get started"
   ]
  },
  {
   "cell_type": "code",
   "execution_count": 1,
   "id": "be271aa5",
   "metadata": {},
   "outputs": [],
   "source": [
    "import pandas as pd\n",
    "import numpy as np\n",
    "import seaborn as sns\n",
    "import matplotlib.pyplot as plt\n",
    "%matplotlib inline"
   ]
  },
  {
   "cell_type": "markdown",
   "id": "c8f545ce",
   "metadata": {},
   "source": [
    "Read dataset from .csv file"
   ]
  },
  {
   "cell_type": "code",
   "execution_count": 2,
   "id": "e884dbf6",
   "metadata": {},
   "outputs": [],
   "source": [
    "from sklearn.datasets import load_breast_cancer\n",
    "cancer = load_breast_cancer()\n",
    "#churn = pd.read_csv('data/churn_clean.csv')"
   ]
  },
  {
   "cell_type": "markdown",
   "id": "fe218968",
   "metadata": {},
   "source": [
    "Define continuous features"
   ]
  },
  {
   "cell_type": "markdown",
   "id": "47a87b64",
   "metadata": {},
   "source": [
    "Create a dataframe of the churn data with numerical values (continuous variables)"
   ]
  },
  {
   "cell_type": "code",
   "execution_count": 12,
   "id": "d42c6b46",
   "metadata": {},
   "outputs": [],
   "source": [
    "#df = pd.DataFrame(churn,columns=features)\n",
    "features = cancer['feature_names']\n",
    "df = pd.DataFrame(cancer['data'], columns=features)"
   ]
  },
  {
   "cell_type": "markdown",
   "id": "ed03bb8a",
   "metadata": {},
   "source": [
    "Explore dataframe"
   ]
  },
  {
   "cell_type": "code",
   "execution_count": 13,
   "id": "2c410785",
   "metadata": {
    "scrolled": false
   },
   "outputs": [
    {
     "name": "stdout",
     "output_type": "stream",
     "text": [
      "                                0         1         2        3         4\n",
      "mean radius                17.990    20.570    19.690   11.420    20.290\n",
      "mean texture               10.380    17.770    21.250   20.380    14.340\n",
      "mean perimeter            122.800   132.900   130.000   77.580   135.100\n",
      "mean area                1001.000  1326.000  1203.000  386.100  1297.000\n",
      "mean smoothness             0.118     0.085     0.110    0.142     0.100\n",
      "mean compactness            0.278     0.079     0.160    0.284     0.133\n",
      "mean concavity              0.300     0.087     0.197    0.241     0.198\n",
      "mean concave points         0.147     0.070     0.128    0.105     0.104\n",
      "mean symmetry               0.242     0.181     0.207    0.260     0.181\n",
      "mean fractal dimension      0.079     0.057     0.060    0.097     0.059\n",
      "radius error                1.095     0.544     0.746    0.496     0.757\n",
      "texture error               0.905     0.734     0.787    1.156     0.781\n",
      "perimeter error             8.589     3.398     4.585    3.445     5.438\n",
      "area error                153.400    74.080    94.030   27.230    94.440\n",
      "smoothness error            0.006     0.005     0.006    0.009     0.011\n",
      "compactness error           0.049     0.013     0.040    0.075     0.025\n",
      "concavity error             0.054     0.019     0.038    0.057     0.057\n",
      "concave points error        0.016     0.013     0.021    0.019     0.019\n",
      "symmetry error              0.030     0.014     0.022    0.060     0.018\n",
      "fractal dimension error     0.006     0.004     0.005    0.009     0.005\n",
      "worst radius               25.380    24.990    23.570   14.910    22.540\n",
      "worst texture              17.330    23.410    25.530   26.500    16.670\n",
      "worst perimeter           184.600   158.800   152.500   98.870   152.200\n",
      "worst area               2019.000  1956.000  1709.000  567.700  1575.000\n",
      "worst smoothness            0.162     0.124     0.144    0.210     0.137\n",
      "worst compactness           0.666     0.187     0.424    0.866     0.205\n",
      "worst concavity             0.712     0.242     0.450    0.687     0.400\n",
      "worst concave points        0.265     0.186     0.243    0.258     0.162\n",
      "worst symmetry              0.460     0.275     0.361    0.664     0.236\n",
      "worst fractal dimension     0.119     0.089     0.088    0.173     0.077\n",
      "<class 'pandas.core.frame.DataFrame'>\n",
      "RangeIndex: 569 entries, 0 to 568\n",
      "Data columns (total 30 columns):\n",
      " #   Column                   Non-Null Count  Dtype  \n",
      "---  ------                   --------------  -----  \n",
      " 0   mean radius              569 non-null    float64\n",
      " 1   mean texture             569 non-null    float64\n",
      " 2   mean perimeter           569 non-null    float64\n",
      " 3   mean area                569 non-null    float64\n",
      " 4   mean smoothness          569 non-null    float64\n",
      " 5   mean compactness         569 non-null    float64\n",
      " 6   mean concavity           569 non-null    float64\n",
      " 7   mean concave points      569 non-null    float64\n",
      " 8   mean symmetry            569 non-null    float64\n",
      " 9   mean fractal dimension   569 non-null    float64\n",
      " 10  radius error             569 non-null    float64\n",
      " 11  texture error            569 non-null    float64\n",
      " 12  perimeter error          569 non-null    float64\n",
      " 13  area error               569 non-null    float64\n",
      " 14  smoothness error         569 non-null    float64\n",
      " 15  compactness error        569 non-null    float64\n",
      " 16  concavity error          569 non-null    float64\n",
      " 17  concave points error     569 non-null    float64\n",
      " 18  symmetry error           569 non-null    float64\n",
      " 19  fractal dimension error  569 non-null    float64\n",
      " 20  worst radius             569 non-null    float64\n",
      " 21  worst texture            569 non-null    float64\n",
      " 22  worst perimeter          569 non-null    float64\n",
      " 23  worst area               569 non-null    float64\n",
      " 24  worst smoothness         569 non-null    float64\n",
      " 25  worst compactness        569 non-null    float64\n",
      " 26  worst concavity          569 non-null    float64\n",
      " 27  worst concave points     569 non-null    float64\n",
      " 28  worst symmetry           569 non-null    float64\n",
      " 29  worst fractal dimension  569 non-null    float64\n",
      "dtypes: float64(30)\n",
      "memory usage: 133.5 KB\n",
      "None\n"
     ]
    }
   ],
   "source": [
    "# explore data\n",
    "print(df.head().round(3).T)\n",
    "print(df.info())"
   ]
  },
  {
   "cell_type": "markdown",
   "id": "14024160",
   "metadata": {},
   "source": [
    "## Scale the data"
   ]
  },
  {
   "cell_type": "markdown",
   "id": "96974f71",
   "metadata": {},
   "source": [
    "import standard scaler to ensure each variable contributes equally to the analysis"
   ]
  },
  {
   "cell_type": "code",
   "execution_count": 6,
   "id": "23689e73",
   "metadata": {},
   "outputs": [],
   "source": [
    "from sklearn.preprocessing import StandardScaler"
   ]
  },
  {
   "cell_type": "markdown",
   "id": "1e9f6b87",
   "metadata": {},
   "source": [
    "scale data to ensure each variable contributes equally to the analysis"
   ]
  },
  {
   "cell_type": "code",
   "execution_count": 7,
   "id": "31240771",
   "metadata": {},
   "outputs": [],
   "source": [
    "scaler = StandardScaler()"
   ]
  },
  {
   "cell_type": "markdown",
   "id": "79a9a5f5",
   "metadata": {},
   "source": [
    "fit scaler to the data"
   ]
  },
  {
   "cell_type": "code",
   "execution_count": 8,
   "id": "2eb42990",
   "metadata": {},
   "outputs": [
    {
     "data": {
      "text/plain": [
       "StandardScaler()"
      ]
     },
     "execution_count": 8,
     "metadata": {},
     "output_type": "execute_result"
    }
   ],
   "source": [
    "scaler.fit(df)"
   ]
  },
  {
   "cell_type": "markdown",
   "id": "c550bf5b",
   "metadata": {},
   "source": [
    "create scaled dataframe using transformed data"
   ]
  },
  {
   "cell_type": "code",
   "execution_count": 14,
   "id": "67b84795",
   "metadata": {},
   "outputs": [
    {
     "name": "stdout",
     "output_type": "stream",
     "text": [
      "                             0      1      2      3      4\n",
      "mean radius              1.097  1.830  1.580 -0.769  1.750\n",
      "mean texture            -2.073 -0.354  0.456  0.254 -1.152\n",
      "mean perimeter           1.270  1.686  1.567 -0.593  1.777\n",
      "mean area                0.984  1.909  1.559 -0.764  1.826\n",
      "mean smoothness          1.568 -0.827  0.942  3.284  0.280\n",
      "mean compactness         3.284 -0.487  1.053  3.403  0.539\n",
      "mean concavity           2.653 -0.024  1.363  1.916  1.371\n",
      "mean concave points      2.532  0.548  2.037  1.452  1.428\n",
      "mean symmetry            2.218  0.001  0.940  2.867 -0.010\n",
      "mean fractal dimension   2.256 -0.869 -0.398  4.911 -0.562\n",
      "radius error             2.490  0.499  1.229  0.326  1.271\n",
      "texture error           -0.565 -0.876 -0.780 -0.110 -0.790\n",
      "perimeter error          2.833  0.263  0.851  0.287  1.273\n",
      "area error               2.488  0.742  1.181 -0.288  1.190\n",
      "smoothness error        -0.214 -0.605 -0.297  0.690  1.483\n",
      "compactness error        1.317 -0.693  0.815  2.744 -0.049\n",
      "concavity error          0.724 -0.441  0.213  0.820  0.828\n",
      "concave points error     0.661  0.260  1.425  1.115  1.144\n",
      "symmetry error           1.149 -0.805  0.237  4.733 -0.361\n",
      "fractal dimension error  0.907 -0.099  0.294  2.048  0.499\n",
      "worst radius             1.887  1.806  1.512 -0.281  1.299\n",
      "worst texture           -1.359 -0.369 -0.024  0.134 -1.467\n",
      "worst perimeter          2.304  1.535  1.347 -0.250  1.339\n",
      "worst area               2.001  1.890  1.456 -0.550  1.221\n",
      "worst smoothness         1.308 -0.376  0.527  3.394  0.221\n",
      "worst compactness        2.617 -0.430  1.083  3.893 -0.313\n",
      "worst concavity          2.110 -0.147  0.855  1.990  0.613\n",
      "worst concave points     2.296  1.087  1.955  2.176  0.729\n",
      "worst symmetry           2.751 -0.244  1.152  6.046 -0.868\n",
      "worst fractal dimension  1.937  0.281  0.201  4.935 -0.397\n",
      "<class 'pandas.core.frame.DataFrame'>\n",
      "RangeIndex: 569 entries, 0 to 568\n",
      "Data columns (total 30 columns):\n",
      " #   Column                   Non-Null Count  Dtype  \n",
      "---  ------                   --------------  -----  \n",
      " 0   mean radius              569 non-null    float64\n",
      " 1   mean texture             569 non-null    float64\n",
      " 2   mean perimeter           569 non-null    float64\n",
      " 3   mean area                569 non-null    float64\n",
      " 4   mean smoothness          569 non-null    float64\n",
      " 5   mean compactness         569 non-null    float64\n",
      " 6   mean concavity           569 non-null    float64\n",
      " 7   mean concave points      569 non-null    float64\n",
      " 8   mean symmetry            569 non-null    float64\n",
      " 9   mean fractal dimension   569 non-null    float64\n",
      " 10  radius error             569 non-null    float64\n",
      " 11  texture error            569 non-null    float64\n",
      " 12  perimeter error          569 non-null    float64\n",
      " 13  area error               569 non-null    float64\n",
      " 14  smoothness error         569 non-null    float64\n",
      " 15  compactness error        569 non-null    float64\n",
      " 16  concavity error          569 non-null    float64\n",
      " 17  concave points error     569 non-null    float64\n",
      " 18  symmetry error           569 non-null    float64\n",
      " 19  fractal dimension error  569 non-null    float64\n",
      " 20  worst radius             569 non-null    float64\n",
      " 21  worst texture            569 non-null    float64\n",
      " 22  worst perimeter          569 non-null    float64\n",
      " 23  worst area               569 non-null    float64\n",
      " 24  worst smoothness         569 non-null    float64\n",
      " 25  worst compactness        569 non-null    float64\n",
      " 26  worst concavity          569 non-null    float64\n",
      " 27  worst concave points     569 non-null    float64\n",
      " 28  worst symmetry           569 non-null    float64\n",
      " 29  worst fractal dimension  569 non-null    float64\n",
      "dtypes: float64(30)\n",
      "memory usage: 133.5 KB\n",
      "None\n"
     ]
    }
   ],
   "source": [
    "scaled_df = pd.DataFrame(scaler.transform(df), columns = features)\n",
    "print(scaled_df.head().round(3).T)\n",
    "print(scaled_df.info())"
   ]
  },
  {
   "cell_type": "markdown",
   "id": "c6580d3d",
   "metadata": {},
   "source": [
    "export scaled data to .CSV file"
   ]
  },
  {
   "cell_type": "code",
   "execution_count": 15,
   "id": "84b6ff58",
   "metadata": {},
   "outputs": [],
   "source": [
    "scaled_df.to_csv('tables\\scaled_df_cancer.csv', index=False, header=True)"
   ]
  },
  {
   "cell_type": "markdown",
   "id": "63583a30",
   "metadata": {},
   "source": [
    "import PCA from sklearn"
   ]
  },
  {
   "cell_type": "code",
   "execution_count": 16,
   "id": "7dda8da5",
   "metadata": {},
   "outputs": [],
   "source": [
    "from sklearn.decomposition import PCA"
   ]
  },
  {
   "cell_type": "markdown",
   "id": "bd34afad",
   "metadata": {},
   "source": [
    "fit PCA to scaled data"
   ]
  },
  {
   "cell_type": "code",
   "execution_count": 17,
   "id": "dacf5f53",
   "metadata": {},
   "outputs": [],
   "source": [
    "pca = PCA().fit(scaled_df)"
   ]
  },
  {
   "cell_type": "markdown",
   "id": "3915a0ab",
   "metadata": {},
   "source": [
    "Visualize Scree Plot"
   ]
  },
  {
   "cell_type": "code",
   "execution_count": 18,
   "id": "8f611a81",
   "metadata": {},
   "outputs": [
    {
     "data": {
      "image/png": "[encoded data removed]",
      "text/plain": [
       "<Figure size 720x576 with 1 Axes>"
      ]
     },
     "metadata": {
      "needs_background": "light"
     },
     "output_type": "display_data"
    }
   ],
   "source": [
    "# create scree plot\n",
    "plt.figure(figsize=(10,8))\n",
    "plt.plot(np.cumsum(pca.explained_variance_ratio_))\n",
    "plt.title('Scree Plot')\n",
    "plt.xlabel('Number of Components')\n",
    "plt.ylabel('Cumulative Explained Variance')\n",
    "plt.axhline(y = .95, color='k', linestyle='--', label = '95% Variance')\n",
    "plt.axhline(y = .90, color='c', linestyle='--', label = '90% Variance')\n",
    "plt.axhline(y = .85, color='r', linestyle='--', label = '85% Variance')\n",
    "plt.legend(loc='best')\n",
    "plt.show()"
   ]
  },
  {
   "cell_type": "markdown",
   "id": "4d24ff87",
   "metadata": {},
   "source": [
    "## Principal Component Algorithm"
   ]
  },
  {
   "cell_type": "code",
   "execution_count": 40,
   "id": "794c35a2",
   "metadata": {},
   "outputs": [],
   "source": [
    "pca = PCA(n_components=3)\n",
    "x_pca = pca.fit_transform(scaled_df)"
   ]
  },
  {
   "cell_type": "code",
   "execution_count": 41,
   "id": "bf42b5cc",
   "metadata": {},
   "outputs": [
    {
     "name": "stdout",
     "output_type": "stream",
     "text": [
      "Numpy covariance matrix: \n",
      "[[13.305 -0.    -0.   ]\n",
      " [-0.     5.701  0.   ]\n",
      " [-0.     0.     2.823]]\n"
     ]
    }
   ],
   "source": [
    "print('Numpy covariance matrix: \\n%s' %np.cov(x_pca.T).round(3))"
   ]
  },
  {
   "cell_type": "code",
   "execution_count": 42,
   "id": "d0fec8a3",
   "metadata": {},
   "outputs": [
    {
     "data": {
      "text/plain": [
       "(569, 30)"
      ]
     },
     "execution_count": 42,
     "metadata": {},
     "output_type": "execute_result"
    }
   ],
   "source": [
    "scaled_df.shape"
   ]
  },
  {
   "cell_type": "code",
   "execution_count": 43,
   "id": "61492009",
   "metadata": {},
   "outputs": [
    {
     "data": {
      "text/plain": [
       "(569, 3)"
      ]
     },
     "execution_count": 43,
     "metadata": {},
     "output_type": "execute_result"
    }
   ],
   "source": [
    "x_pca.shape"
   ]
  },
  {
   "cell_type": "code",
   "execution_count": 44,
   "id": "a465b38d",
   "metadata": {},
   "outputs": [
    {
     "name": "stdout",
     "output_type": "stream",
     "text": [
      "[44.272 18.971  9.393]\n",
      "[44.272 63.243 72.636]\n"
     ]
    }
   ],
   "source": [
    "print((pca.explained_variance_ratio_*100).round(3))\n",
    "print((np.cumsum(pca.explained_variance_ratio_*100).round(3)))"
   ]
  },
  {
   "cell_type": "code",
   "execution_count": 45,
   "id": "097fa610",
   "metadata": {},
   "outputs": [
    {
     "name": "stdout",
     "output_type": "stream",
     "text": [
      "Variance explained by principal components =  72.636\n"
     ]
    }
   ],
   "source": [
    "print('Variance explained by principal components = ', \n",
    "      sum(pca.explained_variance_ratio_*100).round(3))"
   ]
  },
  {
   "cell_type": "code",
   "execution_count": 46,
   "id": "d182d06d",
   "metadata": {},
   "outputs": [],
   "source": [
    "per_var = np.round(pca.explained_variance_ratio_*100,decimals=1)\n",
    "\n",
    "pc_labels = ['PC' + str(x) for x in range(1,len(per_var)+1)]"
   ]
  },
  {
   "cell_type": "code",
   "execution_count": 47,
   "id": "1da96c60",
   "metadata": {},
   "outputs": [
    {
     "data": {
      "image/png": "[encoded data removed]",
      "text/plain": [
       "<Figure size 720x576 with 2 Axes>"
      ]
     },
     "metadata": {
      "needs_background": "light"
     },
     "output_type": "display_data"
    }
   ],
   "source": [
    "# create principal component variance\n",
    "#plt.figure(figsize=(10,8))\n",
    "x = range(1,len(per_var)+1)\n",
    "fig, ax1 = plt.subplots()\n",
    "fig.set_size_inches(10,8)\n",
    "ax1.bar(x, height=per_var, width=0.4, align='center', tick_label=pc_labels)\n",
    "ax2 = ax1.twinx()\n",
    "ax2.plot(x, np.cumsum(pca.explained_variance_ratio_*100).round(3))\n",
    "ax1.set_xlabel('Principal Component')\n",
    "ax1.set_ylabel('Explained Variance (bars)')\n",
    "ax1.set_title('Principal Component Variance')\n",
    "ax2.set_ylabel('Cumulative Explained Variance (line)')\n",
    "plt.show()"
   ]
  },
  {
   "cell_type": "markdown",
   "id": "2a74d0ec",
   "metadata": {},
   "source": [
    "## Two-dimensions captured 26.90% of variability"
   ]
  },
  {
   "cell_type": "code",
   "execution_count": 48,
   "id": "edb0aaeb",
   "metadata": {},
   "outputs": [
    {
     "name": "stdout",
     "output_type": "stream",
     "text": [
      "Variance explained by the first principal component =  44.272025607526416\n",
      "Variance explained by the second principal component =  63.243207651559416\n"
     ]
    }
   ],
   "source": [
    "print('Variance explained by the first principal component = ' ,\n",
    "      np.cumsum(pca.explained_variance_ratio_*100)[0])\n",
    "print('Variance explained by the second principal component = ' ,\n",
    "      np.cumsum(pca.explained_variance_ratio_*100)[1])"
   ]
  },
  {
   "cell_type": "code",
   "execution_count": 49,
   "id": "ee512d0a",
   "metadata": {
    "scrolled": false
   },
   "outputs": [
    {
     "data": {
      "image/png": "[encoded data removed]",
      "text/plain": [
       "<Figure size 720x576 with 1 Axes>"
      ]
     },
     "metadata": {
      "needs_background": "light"
     },
     "output_type": "display_data"
    }
   ],
   "source": [
    "target = cancer['target']\n",
    "plt.figure(figsize=(10,8))\n",
    "plt.scatter(x_pca[:,0],x_pca[:,1], c=target, cmap='rainbow')\n",
    "plt.xlabel('First Principal Component')\n",
    "plt.ylabel('Second Principal Component')\n",
    "plt.title('2-dimension with 26.90% captured variance')\n",
    "plt.show()"
   ]
  },
  {
   "cell_type": "code",
   "execution_count": 50,
   "id": "681d0fd5",
   "metadata": {},
   "outputs": [
    {
     "data": {
      "text/plain": [
       "array([[ 0.219,  0.104,  0.228,  0.221,  0.143,  0.239,  0.258,  0.261,\n",
       "         0.138,  0.064,  0.206,  0.017,  0.211,  0.203,  0.015,  0.17 ,\n",
       "         0.154,  0.183,  0.042,  0.103,  0.228,  0.104,  0.237,  0.225,\n",
       "         0.128,  0.21 ,  0.229,  0.251,  0.123,  0.132],\n",
       "       [-0.234, -0.06 , -0.215, -0.231,  0.186,  0.152,  0.06 , -0.035,\n",
       "         0.19 ,  0.367, -0.106,  0.09 , -0.089, -0.152,  0.204,  0.233,\n",
       "         0.197,  0.13 ,  0.184,  0.28 , -0.22 , -0.045, -0.2  , -0.219,\n",
       "         0.172,  0.144,  0.098, -0.008,  0.142,  0.275],\n",
       "       [-0.009,  0.065, -0.009,  0.029, -0.104, -0.074,  0.003, -0.026,\n",
       "        -0.04 , -0.023,  0.268,  0.375,  0.267,  0.216,  0.309,  0.155,\n",
       "         0.176,  0.225,  0.289,  0.212, -0.048, -0.042, -0.049, -0.012,\n",
       "        -0.26 , -0.236, -0.173, -0.17 , -0.271, -0.233]])"
      ]
     },
     "execution_count": 50,
     "metadata": {},
     "output_type": "execute_result"
    }
   ],
   "source": [
    "pca.components_.round(3)"
   ]
  },
  {
   "cell_type": "markdown",
   "id": "9d3850d5",
   "metadata": {},
   "source": [
    "Create a dataframe of PCs and relationship to the original features"
   ]
  },
  {
   "cell_type": "code",
   "execution_count": 51,
   "id": "e231ff98",
   "metadata": {},
   "outputs": [],
   "source": [
    "# create pc labels\n",
    "pc_labels =[]\n",
    "for i in range(1,len(per_var)+1):\n",
    "    pc_labels.append('PC'+str(i))"
   ]
  },
  {
   "cell_type": "code",
   "execution_count": 52,
   "id": "4c7116e1",
   "metadata": {},
   "outputs": [
    {
     "data": {
      "text/html": [
       "<div>\n",
       "<style scoped>\n",
       "    .dataframe tbody tr th:only-of-type {\n",
       "        vertical-align: middle;\n",
       "    }\n",
       "\n",
       "    .dataframe tbody tr th {\n",
       "        vertical-align: top;\n",
       "    }\n",
       "\n",
       "    .dataframe thead th {\n",
       "        text-align: right;\n",
       "    }\n",
       "</style>\n",
       "<table border=\"1\" class=\"dataframe\">\n",
       "  <thead>\n",
       "    <tr style=\"text-align: right;\">\n",
       "      <th></th>\n",
       "      <th>PC1</th>\n",
       "      <th>PC2</th>\n",
       "      <th>PC3</th>\n",
       "    </tr>\n",
       "  </thead>\n",
       "  <tbody>\n",
       "    <tr>\n",
       "      <th>mean radius</th>\n",
       "      <td>0.2189</td>\n",
       "      <td>-0.2339</td>\n",
       "      <td>-0.0085</td>\n",
       "    </tr>\n",
       "    <tr>\n",
       "      <th>mean texture</th>\n",
       "      <td>0.1037</td>\n",
       "      <td>-0.0597</td>\n",
       "      <td>0.0646</td>\n",
       "    </tr>\n",
       "    <tr>\n",
       "      <th>mean perimeter</th>\n",
       "      <td>0.2275</td>\n",
       "      <td>-0.2152</td>\n",
       "      <td>-0.0093</td>\n",
       "    </tr>\n",
       "    <tr>\n",
       "      <th>mean area</th>\n",
       "      <td>0.2210</td>\n",
       "      <td>-0.2311</td>\n",
       "      <td>0.0287</td>\n",
       "    </tr>\n",
       "    <tr>\n",
       "      <th>mean smoothness</th>\n",
       "      <td>0.1426</td>\n",
       "      <td>0.1861</td>\n",
       "      <td>-0.1043</td>\n",
       "    </tr>\n",
       "    <tr>\n",
       "      <th>mean compactness</th>\n",
       "      <td>0.2393</td>\n",
       "      <td>0.1519</td>\n",
       "      <td>-0.0741</td>\n",
       "    </tr>\n",
       "    <tr>\n",
       "      <th>mean concavity</th>\n",
       "      <td>0.2584</td>\n",
       "      <td>0.0602</td>\n",
       "      <td>0.0027</td>\n",
       "    </tr>\n",
       "    <tr>\n",
       "      <th>mean concave points</th>\n",
       "      <td>0.2609</td>\n",
       "      <td>-0.0348</td>\n",
       "      <td>-0.0256</td>\n",
       "    </tr>\n",
       "    <tr>\n",
       "      <th>mean symmetry</th>\n",
       "      <td>0.1382</td>\n",
       "      <td>0.1903</td>\n",
       "      <td>-0.0402</td>\n",
       "    </tr>\n",
       "    <tr>\n",
       "      <th>mean fractal dimension</th>\n",
       "      <td>0.0644</td>\n",
       "      <td>0.3666</td>\n",
       "      <td>-0.0226</td>\n",
       "    </tr>\n",
       "    <tr>\n",
       "      <th>radius error</th>\n",
       "      <td>0.2060</td>\n",
       "      <td>-0.1056</td>\n",
       "      <td>0.2685</td>\n",
       "    </tr>\n",
       "    <tr>\n",
       "      <th>texture error</th>\n",
       "      <td>0.0174</td>\n",
       "      <td>0.0900</td>\n",
       "      <td>0.3746</td>\n",
       "    </tr>\n",
       "    <tr>\n",
       "      <th>perimeter error</th>\n",
       "      <td>0.2113</td>\n",
       "      <td>-0.0895</td>\n",
       "      <td>0.2666</td>\n",
       "    </tr>\n",
       "    <tr>\n",
       "      <th>area error</th>\n",
       "      <td>0.2029</td>\n",
       "      <td>-0.1523</td>\n",
       "      <td>0.2160</td>\n",
       "    </tr>\n",
       "    <tr>\n",
       "      <th>smoothness error</th>\n",
       "      <td>0.0145</td>\n",
       "      <td>0.2044</td>\n",
       "      <td>0.3088</td>\n",
       "    </tr>\n",
       "    <tr>\n",
       "      <th>compactness error</th>\n",
       "      <td>0.1704</td>\n",
       "      <td>0.2327</td>\n",
       "      <td>0.1548</td>\n",
       "    </tr>\n",
       "    <tr>\n",
       "      <th>concavity error</th>\n",
       "      <td>0.1536</td>\n",
       "      <td>0.1972</td>\n",
       "      <td>0.1765</td>\n",
       "    </tr>\n",
       "    <tr>\n",
       "      <th>concave points error</th>\n",
       "      <td>0.1834</td>\n",
       "      <td>0.1303</td>\n",
       "      <td>0.2247</td>\n",
       "    </tr>\n",
       "    <tr>\n",
       "      <th>symmetry error</th>\n",
       "      <td>0.0425</td>\n",
       "      <td>0.1838</td>\n",
       "      <td>0.2886</td>\n",
       "    </tr>\n",
       "    <tr>\n",
       "      <th>fractal dimension error</th>\n",
       "      <td>0.1026</td>\n",
       "      <td>0.2801</td>\n",
       "      <td>0.2115</td>\n",
       "    </tr>\n",
       "    <tr>\n",
       "      <th>worst radius</th>\n",
       "      <td>0.2280</td>\n",
       "      <td>-0.2199</td>\n",
       "      <td>-0.0475</td>\n",
       "    </tr>\n",
       "    <tr>\n",
       "      <th>worst texture</th>\n",
       "      <td>0.1045</td>\n",
       "      <td>-0.0455</td>\n",
       "      <td>-0.0423</td>\n",
       "    </tr>\n",
       "    <tr>\n",
       "      <th>worst perimeter</th>\n",
       "      <td>0.2366</td>\n",
       "      <td>-0.1999</td>\n",
       "      <td>-0.0485</td>\n",
       "    </tr>\n",
       "    <tr>\n",
       "      <th>worst area</th>\n",
       "      <td>0.2249</td>\n",
       "      <td>-0.2194</td>\n",
       "      <td>-0.0119</td>\n",
       "    </tr>\n",
       "    <tr>\n",
       "      <th>worst smoothness</th>\n",
       "      <td>0.1280</td>\n",
       "      <td>0.1723</td>\n",
       "      <td>-0.2598</td>\n",
       "    </tr>\n",
       "    <tr>\n",
       "      <th>worst compactness</th>\n",
       "      <td>0.2101</td>\n",
       "      <td>0.1436</td>\n",
       "      <td>-0.2361</td>\n",
       "    </tr>\n",
       "    <tr>\n",
       "      <th>worst concavity</th>\n",
       "      <td>0.2288</td>\n",
       "      <td>0.0980</td>\n",
       "      <td>-0.1731</td>\n",
       "    </tr>\n",
       "    <tr>\n",
       "      <th>worst concave points</th>\n",
       "      <td>0.2509</td>\n",
       "      <td>-0.0083</td>\n",
       "      <td>-0.1703</td>\n",
       "    </tr>\n",
       "    <tr>\n",
       "      <th>worst symmetry</th>\n",
       "      <td>0.1229</td>\n",
       "      <td>0.1419</td>\n",
       "      <td>-0.2713</td>\n",
       "    </tr>\n",
       "    <tr>\n",
       "      <th>worst fractal dimension</th>\n",
       "      <td>0.1318</td>\n",
       "      <td>0.2753</td>\n",
       "      <td>-0.2328</td>\n",
       "    </tr>\n",
       "  </tbody>\n",
       "</table>\n",
       "</div>"
      ],
      "text/plain": [
       "                            PC1     PC2     PC3\n",
       "mean radius              0.2189 -0.2339 -0.0085\n",
       "mean texture             0.1037 -0.0597  0.0646\n",
       "mean perimeter           0.2275 -0.2152 -0.0093\n",
       "mean area                0.2210 -0.2311  0.0287\n",
       "mean smoothness          0.1426  0.1861 -0.1043\n",
       "mean compactness         0.2393  0.1519 -0.0741\n",
       "mean concavity           0.2584  0.0602  0.0027\n",
       "mean concave points      0.2609 -0.0348 -0.0256\n",
       "mean symmetry            0.1382  0.1903 -0.0402\n",
       "mean fractal dimension   0.0644  0.3666 -0.0226\n",
       "radius error             0.2060 -0.1056  0.2685\n",
       "texture error            0.0174  0.0900  0.3746\n",
       "perimeter error          0.2113 -0.0895  0.2666\n",
       "area error               0.2029 -0.1523  0.2160\n",
       "smoothness error         0.0145  0.2044  0.3088\n",
       "compactness error        0.1704  0.2327  0.1548\n",
       "concavity error          0.1536  0.1972  0.1765\n",
       "concave points error     0.1834  0.1303  0.2247\n",
       "symmetry error           0.0425  0.1838  0.2886\n",
       "fractal dimension error  0.1026  0.2801  0.2115\n",
       "worst radius             0.2280 -0.2199 -0.0475\n",
       "worst texture            0.1045 -0.0455 -0.0423\n",
       "worst perimeter          0.2366 -0.1999 -0.0485\n",
       "worst area               0.2249 -0.2194 -0.0119\n",
       "worst smoothness         0.1280  0.1723 -0.2598\n",
       "worst compactness        0.2101  0.1436 -0.2361\n",
       "worst concavity          0.2288  0.0980 -0.1731\n",
       "worst concave points     0.2509 -0.0083 -0.1703\n",
       "worst symmetry           0.1229  0.1419 -0.2713\n",
       "worst fractal dimension  0.1318  0.2753 -0.2328"
      ]
     },
     "execution_count": 52,
     "metadata": {},
     "output_type": "execute_result"
    }
   ],
   "source": [
    "pca_comp = pd.DataFrame(pca.components_,\n",
    "                columns=features,index=pc_labels)\n",
    "pca_comp.round(4).T"
   ]
  },
  {
   "cell_type": "code",
   "execution_count": 84,
   "id": "70d99bdd",
   "metadata": {},
   "outputs": [
    {
     "name": "stderr",
     "output_type": "stream",
     "text": [
      "W:\\code\\wgu\\py39\\lib\\site-packages\\seaborn\\matrix.py:198: RuntimeWarning: All-NaN slice encountered\n",
      "  vmin = np.nanmin(calc_data)\n",
      "W:\\code\\wgu\\py39\\lib\\site-packages\\seaborn\\matrix.py:203: RuntimeWarning: All-NaN slice encountered\n",
      "  vmax = np.nanmax(calc_data)\n"
     ]
    },
    {
     "data": {
      "text/plain": [
       "Text(0.5, 1.0, 'Principal Component Matrix')"
      ]
     },
     "execution_count": 84,
     "metadata": {},
     "output_type": "execute_result"
    },
    {
     "data": {
      "image/png": "[encoded data removed]",
      "text/plain": [
       "<Figure size 720x576 with 2 Axes>"
      ]
     },
     "metadata": {
      "needs_background": "light"
     },
     "output_type": "display_data"
    }
   ],
   "source": [
    "# create principal component matrix\n",
    "plt.figure(figsize=(10,8))\n",
    "\n",
    "sns.heatmap(pca_comp.T,cmap='gray',\n",
    "           annot=True,fmt='.2g', mask=pca_comp.T<.5)\n",
    "plt.title('Principal Component Matrix')\n",
    "\n"
   ]
  },
  {
   "cell_type": "code",
   "execution_count": null,
   "id": "5ecbe5cf",
   "metadata": {},
   "outputs": [],
   "source": [
    "# create principal component matrix\n",
    "plt.figure(figsize=(10,8))\n",
    "sns.heatmap(pca_comp.T,cmap='rainbow',\n",
    "           annot=True,fmt='.2g')\n",
    "plt.title('Principal Component Matrix')"
   ]
  },
  {
   "cell_type": "code",
   "execution_count": 54,
   "id": "3a70a0b5",
   "metadata": {},
   "outputs": [],
   "source": [
    "# https://stackoverflow.com/questions/40721260/how-to-use-robust-pca-output-as-principal-component-eigenvectors-from-traditio\n",
    "\n",
    "def pca(data, numComponents=None):\n",
    "    \"\"\"Principal Components Analysis\n",
    "\n",
    "    From: http://stackoverflow.com/a/13224592/834250\n",
    "\n",
    "    Parameters\n",
    "    ----------\n",
    "    data : `numpy.ndarray`\n",
    "        numpy array of data to analyse\n",
    "    numComponents : `int`\n",
    "        number of principal components to use\n",
    "\n",
    "    Returns\n",
    "    -------\n",
    "    comps : `numpy.ndarray`\n",
    "        Principal components\n",
    "    evals : `numpy.ndarray`\n",
    "        Eigenvalues\n",
    "    evecs : `numpy.ndarray`\n",
    "        Eigenvectors\n",
    "    \"\"\"\n",
    "    m, n = data.shape\n",
    "    data -= data.mean(axis=0)\n",
    "    R = np.cov(data, rowvar=False)\n",
    "    # use 'eigh' rather than 'eig' since R is symmetric,\n",
    "    # the performance gain is substantial\n",
    "    evals, evecs = np.linalg.eigh(R)\n",
    "    idx = np.argsort(evals)[::-1]\n",
    "    evecs = evecs[:,idx]\n",
    "    evals = evals[idx]\n",
    "    if numComponents is not None:\n",
    "        evecs = evecs[:, :numComponents]\n",
    "    # carry out the transformation on the data using eigenvectors\n",
    "    # and return the re-scaled data, eigenvalues, and eigenvectors\n",
    "    return np.dot(evecs.T, data.T).T, evals, evecs"
   ]
  },
  {
   "cell_type": "code",
   "execution_count": 39,
   "id": "38178b91",
   "metadata": {},
   "outputs": [
    {
     "data": {
      "text/plain": [
       "(array([[ -9.19283683,  -1.94858307],\n",
       "        [ -2.3878018 ,   3.76817174],\n",
       "        [ -5.73389628,   1.0751738 ],\n",
       "        ...,\n",
       "        [ -1.25617928,   1.90229671],\n",
       "        [-10.37479406,  -1.67201011],\n",
       "        [  5.4752433 ,   0.67063679]]),\n",
       " array([1.33049908e+01, 5.70137460e+00, 2.82291016e+00, 1.98412752e+00,\n",
       "        1.65163324e+00, 1.20948224e+00, 6.76408882e-01, 4.77456255e-01,\n",
       "        4.17628782e-01, 3.51310875e-01, 2.94433153e-01, 2.61621161e-01,\n",
       "        2.41782421e-01, 1.57286149e-01, 9.43006956e-02, 8.00034045e-02,\n",
       "        5.95036135e-02, 5.27114222e-02, 4.95647002e-02, 3.12142606e-02,\n",
       "        3.00256631e-02, 2.74877113e-02, 2.43836914e-02, 1.80867940e-02,\n",
       "        1.55085271e-02, 8.19203712e-03, 6.91261258e-03, 1.59213600e-03,\n",
       "        7.50121413e-04, 1.33279057e-04]),\n",
       " array([[-0.21890244,  0.23385713],\n",
       "        [-0.10372458,  0.05970609],\n",
       "        [-0.22753729,  0.21518136],\n",
       "        [-0.22099499,  0.23107671],\n",
       "        [-0.14258969, -0.18611302],\n",
       "        [-0.23928535, -0.15189161],\n",
       "        [-0.25840048, -0.06016536],\n",
       "        [-0.26085376,  0.0347675 ],\n",
       "        [-0.13816696, -0.19034877],\n",
       "        [-0.06436335, -0.36657547],\n",
       "        [-0.20597878,  0.10555215],\n",
       "        [-0.01742803, -0.08997968],\n",
       "        [-0.21132592,  0.08945723],\n",
       "        [-0.20286964,  0.15229263],\n",
       "        [-0.01453145, -0.20443045],\n",
       "        [-0.17039345, -0.2327159 ],\n",
       "        [-0.15358979, -0.19720728],\n",
       "        [-0.1834174 , -0.13032156],\n",
       "        [-0.04249842, -0.183848  ],\n",
       "        [-0.10256832, -0.28009203],\n",
       "        [-0.22799663,  0.21986638],\n",
       "        [-0.10446933,  0.0454673 ],\n",
       "        [-0.23663968,  0.19987843],\n",
       "        [-0.22487053,  0.21935186],\n",
       "        [-0.12795256, -0.17230435],\n",
       "        [-0.21009588, -0.14359317],\n",
       "        [-0.22876753, -0.09796411],\n",
       "        [-0.25088597,  0.00825724],\n",
       "        [-0.12290456, -0.14188335],\n",
       "        [-0.13178394, -0.27533947]]))"
      ]
     },
     "execution_count": 39,
     "metadata": {},
     "output_type": "execute_result"
    }
   ],
   "source": [
    "pca(scaled_df, numComponents=2)"
   ]
  },
  {
   "cell_type": "code",
   "execution_count": 55,
   "id": "60b3c781",
   "metadata": {},
   "outputs": [
    {
     "data": {
      "image/png": "[encoded data removed]",
      "text/plain": [
       "<Figure size 432x288 with 1 Axes>"
      ]
     },
     "metadata": {
      "needs_background": "light"
     },
     "output_type": "display_data"
    }
   ],
   "source": [
    "import seaborn as sns\n",
    "import numpy as np\n",
    "import matplotlib.pyplot as plt\n",
    "\n",
    "cf = np.array([[23, 0, 3],\n",
    "               [0, 106, 5],\n",
    "               [0, 12, 76]])\n",
    "\n",
    "categories = ['a', 'b', 'c']\n",
    "group_percentages = []\n",
    "counts = []\n",
    "for i in range(len(cf)):\n",
    "    for j in range(len(cf)):\n",
    "        group_percentages.append(cf[j, i]/np.sum(cf[:, i]))\n",
    "        counts.append(cf[j, i])\n",
    "\n",
    "percentages_matrix = np.reshape(group_percentages, (3, 3))\n",
    "group_percentages = ['{0:.2%}'.format(value) for value in group_percentages]\n",
    "\n",
    "labels = [f'{v1}\\n{v2}' for v1, v2 in zip(group_percentages, counts)]\n",
    "labels = np.asarray(labels).reshape(3, 3, order = 'F')\n",
    "\n",
    "sns.heatmap(percentages_matrix, annot = labels, fmt = '', xticklabels = categories, yticklabels = categories, cmap = 'Greys', vmax = 1, vmin = 0, cbar = False)\n",
    "\n",
    "plt.show()"
   ]
  },
  {
   "cell_type": "code",
   "execution_count": 61,
   "id": "bd5a7d3d",
   "metadata": {},
   "outputs": [
    {
     "data": {
      "image/png": "[encoded data removed]",
      "text/plain": [
       "<Figure size 432x288 with 2 Axes>"
      ]
     },
     "metadata": {
      "needs_background": "light"
     },
     "output_type": "display_data"
    }
   ],
   "source": [
    "import numpy as np\n",
    "from pylab import *\n",
    "z = rand(10, 25)\n",
    "z = np.ma.masked_array(z,mask=z>0.02)\n",
    "c = pcolor(z)\n",
    "set_cmap('gray')\n",
    "colorbar()\n",
    "c = pcolor(z, edgecolors='w', linewidths=1)\n",
    "axis([0,25,0,10])\n",
    "savefig('plt.png')\n",
    "show()"
   ]
  },
  {
   "cell_type": "code",
   "execution_count": 82,
   "id": "53fdf91e",
   "metadata": {},
   "outputs": [
    {
     "data": {
      "text/plain": [
       "<AxesSubplot:>"
      ]
     },
     "execution_count": 82,
     "metadata": {},
     "output_type": "execute_result"
    },
    {
     "data": {
      "image/png": "[encoded data removed]",
      "text/plain": [
       "<Figure size 432x288 with 2 Axes>"
      ]
     },
     "metadata": {
      "needs_background": "light"
     },
     "output_type": "display_data"
    }
   ],
   "source": [
    "matrix = np.random.default_rng(0).random(size=(20, 20))\n",
    "mask_threshold = .99\n",
    "cmap = plt.cm.get_cmap('Reds').copy()\n",
    "cmap.set_bad('white')      # color of mask on heatmap\n",
    "cmap.set_under('blue')    # color of mask on cbar\n",
    "\n",
    "sns.heatmap(matrix,\n",
    "    cmap=cmap, vmin=0.5, vmax=1,  # set cbar range from 0.5 to 1\n",
    "    mask=matrix > mask_threshold, # use \"bad\" color for thresholded values\n",
    "    cbar_kws={'extend': 'max'})   # extend cbar to show \"under\" color"
   ]
  },
  {
   "cell_type": "code",
   "execution_count": 83,
   "id": "3479f56e",
   "metadata": {},
   "outputs": [
    {
     "data": {
      "image/png": "[encoded data removed]",
      "text/plain": [
       "<Figure size 432x288 with 2 Axes>"
      ]
     },
     "metadata": {
      "needs_background": "light"
     },
     "output_type": "display_data"
    }
   ],
   "source": [
    "from matplotlib import pyplot as plt\n",
    "from matplotlib.colors import ListedColormap\n",
    "import seaborn as sns\n",
    "import pandas as pd\n",
    "import numpy as np\n",
    "\n",
    "N = 10\n",
    "data = np.random.uniform(0, 45, size=(N, N))\n",
    "for x, y in np.random.randint(0, N, 50).reshape(-1, 2):\n",
    "    data[x, y] = np.nan  # fill in some nans at random places\n",
    "df = pd.DataFrame(data)\n",
    "up_triang = np.triu(np.ones_like(data)).astype(bool)\n",
    "ax = sns.heatmap(df, cmap='flare', xticklabels=True, yticklabels=True, square=True,\n",
    "                 linecolor='white', linewidths=0.5,\n",
    "                 cbar=True, mask=df.isnull() | up_triang, cbar_kws={'shrink': 0.6, 'pad': 0}, vmin=0, vmax=45)\n",
    "\n",
    "data_special = np.random.randint(0, 5, size=(N, N)) // 4\n",
    "sns.heatmap(data_special, cmap=ListedColormap(['cornflowerblue']), linecolor='white', linewidths=0.5,\n",
    "            square=True, cbar=False, mask=(data_special != 1) | up_triang, ax=ax)\n",
    "ax.plot([0, N, 0, 0], [0, N, N, 0], clip_on=False, color='black', lw=2)\n",
    "ax.tick_params(left=False, bottom=False)\n",
    "plt.show()"
   ]
  },
  {
   "cell_type": "code",
   "execution_count": 90,
   "id": "4c74c134",
   "metadata": {},
   "outputs": [
    {
     "data": {
      "image/png": "[encoded data removed]",
      "text/plain": [
       "<Figure size 720x576 with 2 Axes>"
      ]
     },
     "metadata": {
      "needs_background": "light"
     },
     "output_type": "display_data"
    }
   ],
   "source": [
    "x = range(1,10)\n",
    "N = 5\n",
    "data = np.random.uniform(0, 45, size=(N, N))\n",
    "fig, ax1 = plt.subplots()\n",
    "fig.set_size_inches(10,8)\n",
    "ax = sns.heatmap(data )"
   ]
  },
  {
   "cell_type": "code",
   "execution_count": null,
   "id": "5daa32c6",
   "metadata": {},
   "outputs": [],
   "source": []
  }
 ],
 "metadata": {
  "kernelspec": {
   "display_name": "py39_venv",
   "language": "python",
   "name": "py39_venv"
  },
  "language_info": {
   "codemirror_mode": {
    "name": "ipython",
    "version": 3
   },
   "file_extension": ".py",
   "mimetype": "text/x-python",
   "name": "python",
   "nbconvert_exporter": "python",
   "pygments_lexer": "ipython3",
   "version": "3.9.7"
  },
  "toc": {
   "base_numbering": 1,
   "nav_menu": {},
   "number_sections": false,
   "sideBar": true,
   "skip_h1_title": false,
   "title_cell": "Table of Contents",
   "title_sidebar": "Contents",
   "toc_cell": false,
   "toc_position": {
    "height": "calc(100% - 180px)",
    "left": "10px",
    "top": "150px",
    "width": "236.517px"
   },
   "toc_section_display": true,
   "toc_window_display": false
  }
 },
 "nbformat": 4,
 "nbformat_minor": 5
}
